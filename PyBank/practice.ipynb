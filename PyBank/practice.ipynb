{
 "cells": [
  {
   "cell_type": "code",
   "execution_count": 40,
   "id": "b6ab595f",
   "metadata": {},
   "outputs": [],
   "source": [
    "#os module to create file paths across operating systems\n",
    "import os\n",
    "\n",
    "#module for csv file\n",
    "import csv\n",
    "\n",
    "#import math ????\n",
    "\n",
    "#set path for file\n",
    "#csv_reader = csv.DictReader(open('Resources/budget_data.csv'))\n",
    "csvpath = os.path.join(\"Resources\",\"budget_data.csv\")\n",
    "    \n",
    "    \n",
    "#The total number of months included in the dataset\n",
    "#The net total amount of \"Profit/Losses\" over the entire period\n",
    "#The average of the changes in \"Profit/Losses\" over the entire period\n",
    "#The greatest increase in profits (date and amount) over the entire period\n",
    "#The greatest decrease in losses (date and amount) over the entire period    \n",
    "        \n",
    "    \n",
    "#set up variables\n",
    "count = 0\n",
    "months = 0\n",
    "average = 0\n",
    "total = 0\n",
    "current = 0\n",
    "total_chg = 0\n",
    "great_inc_profit = 0\n",
    "great_decr_losses = 0\n",
    "profit_inc_dates = \"\"\n",
    "loss_decr_dates = \"\"\n",
    "\n"
   ]
  },
  {
   "cell_type": "code",
   "execution_count": 41,
   "id": "80d3b825",
   "metadata": {},
   "outputs": [],
   "source": [
    "# #setup how to read data\n",
    "# with open(csvpath) as csvfile:\n",
    "#     csvreader = csv.reader(csvfile, delimiter = ',')\n",
    "#     csv_header = next(csvreader)\n",
    "#     print(csvreader)\n",
    "\n",
    "# #The total number of months included in the dataset\n",
    "#     for column in csvreader:\n",
    "#         total += float(column[1])\n",
    "#         count += 1\n",
    "#         current = float(column[1])\n",
    "#         print(current)\n",
    "#    #The net total amount of \"Profit/Losses\" over the entire period \n",
    "#     if(current >= 0): \n",
    "#         total"
   ]
  },
  {
   "cell_type": "code",
   "execution_count": 42,
   "id": "998ac165",
   "metadata": {},
   "outputs": [],
   "source": [
    "# #setup how to read data\n",
    "# with open(csvpath) as csvfile:\n",
    "#     csvreader = csv.reader(csvfile, delimiter = ',')\n",
    "#     csv_header = next(csvreader)\n",
    "#     #print(csvreader)\n",
    "\n",
    "# #The total number of months included in the dataset\n",
    "#     for column in csvreader:\n",
    "#         total += float(column[1])\n",
    "#         count += 1\n",
    "#         current = float(column[1])\n",
    "        \n",
    "#    #The net total amount of \"Profit/Losses\" over the entire period \n",
    "#         if(current >= 0):\n",
    "#             print(current)\n",
    "# total"
   ]
  },
  {
   "cell_type": "code",
   "execution_count": 49,
   "id": "9d75b1dc",
   "metadata": {},
   "outputs": [
    {
     "name": "stdout",
     "output_type": "stream",
     "text": [
      "86 38382578.0\n"
     ]
    }
   ],
   "source": [
    "#setup how to read data\n",
    "with open(csvpath) as csvfile:\n",
    "    csvreader = csv.reader(csvfile, delimiter = ',')\n",
    "    csv_header = next(csvreader)\n",
    "    #print(csvreader)\n",
    "    count = 0\n",
    "    total = 0\n",
    "#The total number of months included in the dataset\n",
    "    for row in csvreader:\n",
    "        total += float(row[1])\n",
    "        count += 1\n",
    "        current = float(row[1])\n",
    "        \n",
    "   #The net total amount of \"Profit/Losses\" over the entire period \n",
    "#     if(current >= 0): \n",
    "    print(count, total)\n",
    "    "
   ]
  },
  {
   "cell_type": "code",
   "execution_count": 45,
   "id": "3986c9b8",
   "metadata": {},
   "outputs": [
    {
     "name": "stdout",
     "output_type": "stream",
     "text": [
      "38382578.0\n"
     ]
    }
   ],
   "source": [
    "#setup how to read data\n",
    "with open(csvpath) as csvfile:\n",
    "    csvreader = csv.reader(csvfile, delimiter = ',')\n",
    "    csv_header = next(csvreader)\n",
    "    #print(csvreader)\n",
    "\n",
    "#The total number of months included in the dataset\n",
    "    for column in csvreader:\n",
    "        total += float(column[1])\n",
    "        count += 1\n",
    "        current = float(column[1])\n",
    "        \n",
    "   #The net total amount of \"Profit/Losses\" over the entire period \n",
    "        if(current >= 0):\n",
    "            if(current > great_inc_profit):\n",
    "                great_inc_profit = current\n",
    "                profit_inc_dates = str(row[0])\n",
    "        elif(current < 0):\n",
    "            if(current < great_decr_losses):\n",
    "                great_decr_losses = current\n",
    "                loss_decr_dates = str(row[0])\n",
    "average = total / count\n",
    "      \n",
    "print(total)"
   ]
  },
  {
   "cell_type": "code",
   "execution_count": null,
   "id": "a11e57e0",
   "metadata": {},
   "outputs": [],
   "source": []
  }
 ],
 "metadata": {
  "kernelspec": {
   "display_name": "Python 3",
   "language": "python",
   "name": "python3"
  },
  "language_info": {
   "codemirror_mode": {
    "name": "ipython",
    "version": 3
   },
   "file_extension": ".py",
   "mimetype": "text/x-python",
   "name": "python",
   "nbconvert_exporter": "python",
   "pygments_lexer": "ipython3",
   "version": "3.8.8"
  }
 },
 "nbformat": 4,
 "nbformat_minor": 5
}
